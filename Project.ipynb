{
 "cells": [
  {
   "cell_type": "code",
   "execution_count": 1,
   "id": "6b87f7a5",
   "metadata": {},
   "outputs": [
    {
     "name": "stdout",
     "output_type": "stream",
     "text": [
      "Enter your message: #Life_goes_on#\n",
      "Enter your key: 19\n",
      "*****The Encrypton process*****\n",
      "9E@yxGz*x+G*&9\n",
      "Encrypted data stored in file\n",
      "The content in the file is\n",
      " 9E@yxGz*x+G*&9\n",
      "*****The decryption process*****\n",
      "#(ife_goes_on#\n"
     ]
    }
   ],
   "source": [
    "LETTERS = 'abcdefghijklmnopqrstuvwxyz!@#$%^&*()_+=1234567890ABCDEFGHIJKLMNOPQRSTUVWXYZABCDEFGHIJKLMNOPQRSTUVWXYZ'\n",
    "\n",
    "    \n",
    "def encrypt(message, key):\n",
    "    encrypted = ''\n",
    "    for chars in message:\n",
    "        if chars in LETTERS:\n",
    "            num = LETTERS.find(chars)\n",
    "            num += key\n",
    "            encrypted += LETTERS[num]\n",
    "    return encrypted\n",
    "\n",
    "\n",
    "def decrypt(message, key):\n",
    "    decrypted = ''\n",
    "    for chars in message:\n",
    "        if chars in LETTERS:\n",
    "            num = LETTERS.find(chars)\n",
    "            num -= key    \n",
    "            decrypted += LETTERS[num]\n",
    "    return decrypted\n",
    "\n",
    "\n",
    "def main():\n",
    "    message = str(input(\"Enter your message: \"))\n",
    "    key = int(input(\"Enter your key: \"))\n",
    "    print(\"*****The Encrypton process*****\")\n",
    "    print(encrypt(message, key))\n",
    "    with open(\"encrypt_data.txt\", \"w\") as out_file:\n",
    "        encrypt_string = \"\"\n",
    "        encrypt_string += \" \" + str(encrypt(message, key))\n",
    "        out_file.write(encrypt_string)\n",
    "    print(\"Encrypted data stored in file\")\n",
    "    with open(\"encrypt_data.txt\") as f:\n",
    "        contents = f.read()\n",
    "        print(\"The content in the file is\")\n",
    "        print(contents)\n",
    "        print(\"*****The decryption process*****\")\n",
    "        print(decrypt(contents, key))\n",
    "        \n",
    "\n",
    "if __name__ == '__main__':\n",
    "    main()"
   ]
  },
  {
   "cell_type": "code",
   "execution_count": 2,
   "id": "565994bb",
   "metadata": {},
   "outputs": [
    {
     "name": "stdout",
     "output_type": "stream",
     "text": [
      "Enter the data to be encrypted:#Life_goes_on#\n",
      "***** Encryption process******\n",
      "After encryption :  b'gAAAAABjQFFl4-YwgixYu66lXVutYWpSiqLY161ACU66-vlcOIGE-lEFAHD9a2_dQoxOYu8uLnpDn0Qv68QvlkvbTpNUoTbJ5Q=='\n",
      "*****Admin page*******\n",
      "*****Decryption Process*******\n",
      "Enter Your Username : user\n",
      "Invalid user\n"
     ]
    }
   ],
   "source": [
    "from cryptography.fernet import Fernet\n",
    "database = {\"Admin\": \"123##67\"}\n",
    "key = Fernet.generate_key()\n",
    "f = Fernet(key)\n",
    "m = str(input(\"Enter the data to be encrypted:\"))\n",
    "encoded = m.encode()\n",
    "encrypted_data = f.encrypt(encoded)\n",
    "print(\"***** Encryption process******\")\n",
    "print(\"After encryption : \", encrypted_data)\n",
    "print(\"*****Admin page*******\")\n",
    "print(\"*****Decryption Process*******\")\n",
    "username = str(input(\"Enter Your Username : \"))\n",
    "for i in database.keys():\n",
    "    if username != i:\n",
    "        print(\"Invalid user\")\n",
    "    else:\n",
    "        password = input(\"Enter Your Password : \")\n",
    "        if password != database.get(i):\n",
    "            print(\"Password  incorrect\")\n",
    "        else:\n",
    "            print(\"Credentials authenticated\")\n",
    "            decrypted_data = f.decrypt(encrypted_data)\n",
    "            original_msg = decrypted_data.decode()\n",
    "            print(\"After decryption : \", original_msg)"
   ]
  },
  {
   "cell_type": "code",
   "execution_count": 3,
   "id": "46c327fb",
   "metadata": {},
   "outputs": [
    {
     "name": "stdout",
     "output_type": "stream",
     "text": [
      "Enter the data to be encrypted:#Life_goes_on#\n",
      "***** Encryption process******\n",
      "After encryption :  b'gAAAAABjQFFurjiXIjq47JP00qoRxp9WU1-TZeQLN-2hpI-gpIoKm5FFfoMSmXCgs8eFcZf2MZWirSEyOYWqZT3JalitZ0MOYA=='\n",
      "*****Admin page*******\n",
      "*****Decryption Process*******\n",
      "Enter Your Username : Admin\n",
      "Enter Your Password : 1234567\n",
      "Password  incorrect\n"
     ]
    }
   ],
   "source": [
    "from cryptography.fernet import Fernet\n",
    "database = {\"Admin\": \"123##67\"}\n",
    "key = Fernet.generate_key()\n",
    "f = Fernet(key)\n",
    "m = str(input(\"Enter the data to be encrypted:\"))\n",
    "encoded = m.encode()\n",
    "encrypted_data = f.encrypt(encoded)\n",
    "print(\"***** Encryption process******\")\n",
    "print(\"After encryption : \", encrypted_data)\n",
    "print(\"*****Admin page*******\")\n",
    "print(\"*****Decryption Process*******\")\n",
    "username = str(input(\"Enter Your Username : \"))\n",
    "for i in database.keys():\n",
    "    if username != i:\n",
    "        print(\"Invalid user\")\n",
    "    else:\n",
    "        password = input(\"Enter Your Password : \")\n",
    "        if password != database.get(i):\n",
    "            print(\"Password  incorrect\")\n",
    "        else:\n",
    "            print(\"Credentials authenticated\")\n",
    "            decrypted_data = f.decrypt(encrypted_data)\n",
    "            original_msg = decrypted_data.decode()\n",
    "            print(\"After decryption : \", original_msg)"
   ]
  },
  {
   "cell_type": "code",
   "execution_count": 5,
   "id": "003e0dd3",
   "metadata": {},
   "outputs": [
    {
     "name": "stdout",
     "output_type": "stream",
     "text": [
      "Enter the data to be encrypted:#Life_goes_on#\n",
      "***** Encryption process******\n",
      "After encryption :  b'gAAAAABjQFGOw80GVRW3vmh2AjXp9zJhtSb-Uz_mtFSGZa6AsRfWTBvAvhSVt80gjj-tTSf8hh03x5AMgTCVQE30olCmmX3eww=='\n",
      "*****Admin page*******\n",
      "*****Decryption Process*******\n",
      "Enter Your Username : Admin\n",
      "Enter Your Password : 123##67\n",
      "Credentials authenticated\n",
      "After decryption :  #Life_goes_on#\n"
     ]
    }
   ],
   "source": [
    "from cryptography.fernet import Fernet\n",
    "database = {\"Admin\": \"123##67\"}\n",
    "key = Fernet.generate_key()\n",
    "f = Fernet(key)\n",
    "m = str(input(\"Enter the data to be encrypted:\"))\n",
    "encoded = m.encode()\n",
    "encrypted_data = f.encrypt(encoded)\n",
    "print(\"***** Encryption process******\")\n",
    "print(\"After encryption : \", encrypted_data)\n",
    "print(\"*****Admin page*******\")\n",
    "print(\"*****Decryption Process*******\")\n",
    "username = str(input(\"Enter Your Username : \"))\n",
    "for i in database.keys():\n",
    "    if username != i:\n",
    "        print(\"Invalid user\")\n",
    "    else:\n",
    "        password = input(\"Enter Your Password : \")\n",
    "        if password != database.get(i):\n",
    "            print(\"Password  incorrect\")\n",
    "        else:\n",
    "            print(\"Credentials authenticated\")\n",
    "            decrypted_data = f.decrypt(encrypted_data)\n",
    "            original_msg = decrypted_data.decode()\n",
    "            print(\"After decryption : \", original_msg)"
   ]
  },
  {
   "cell_type": "code",
   "execution_count": null,
   "id": "efa96d46",
   "metadata": {},
   "outputs": [],
   "source": []
  }
 ],
 "metadata": {
  "kernelspec": {
   "display_name": "Python 3 (ipykernel)",
   "language": "python",
   "name": "python3"
  },
  "language_info": {
   "codemirror_mode": {
    "name": "ipython",
    "version": 3
   },
   "file_extension": ".py",
   "mimetype": "text/x-python",
   "name": "python",
   "nbconvert_exporter": "python",
   "pygments_lexer": "ipython3",
   "version": "3.7.4"
  }
 },
 "nbformat": 4,
 "nbformat_minor": 5
}
